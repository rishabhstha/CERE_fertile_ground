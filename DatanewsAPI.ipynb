{
 "cells": [
  {
   "cell_type": "markdown",
   "metadata": {},
   "source": [
    "# Datanews.io\n",
    "import datanews\n",
    "import pandas as pd\n",
    "import math"
   ]
  },
  {
   "cell_type": "markdown",
   "metadata": {},
   "source": [
    "# My API key. You can register a free API key and replace it with yours. \n",
    "datanews.api_key = '0e1oixqnn4f0fhdl3zod701ok'"
   ]
  },
  {
   "cell_type": "code",
   "execution_count": null,
   "metadata": {},
   "outputs": [],
   "source": [
    "# A function to search and save to csv the original file, file removing rows with the same title, file removing rows with both the same \n",
    "# title and source:\n",
    "\n",
    "def datanews_api_search(keyword):\n",
    "    response = datanews.news (q=keyword,from_date=\"2018-01-01\", to_date=\"2021-07-01\",language=['en'],size=100,page=0)\n",
    "    articles = response['hits']\n",
    "    df_datanews = pd.DataFrame(articles)\n",
    "    num_of_pages = int(math.ceil(response['numResults']/100))\n",
    "    if num_of_pages>1:\n",
    "        for i in range(1,num_of_pages):\n",
    "            extra_page_response = datanews.news (q=keyword,from_date=\"2018-01-01\", to_date=\"2021-08-01\",language=['en'],size=100,page=i)\n",
    "            extra_articles = extra_page_response['hits']\n",
    "            df_datanews = df_datanews.append(extra_articles, ignore_index=True)                  \n",
    "    else: pass\n",
    "# store file in csv\n",
    "    punc = '''!()-[]{};:'\"\\, <>./?@#$%^&*_~+'''\n",
    "# Removing punctuations in string\n",
    "# Using loop + punctuation string\n",
    "    for ele in keyword: \n",
    "        if ele in punc: \n",
    "            keyword = keyword.replace(ele, \"\") \n",
    "# remove duplicated rows by title:\n",
    "    no_dup = df_datanews.drop_duplicates(subset=('title'),ignore_index=True)\n",
    "# remove duplicated rows by title & source match: \n",
    "    no_dup_2 = df_datanews.drop_duplicates(subset=('title','source'),ignore_index=True)\n",
    "# remove duplicated rows by title or source match: \n",
    "    no_dup_3 = no_dup.drop_duplicates(subset=('content'),ignore_index=True)\n",
    "    df_datanews.to_csv(keyword+\".csv\")\n",
    "    no_dup.to_csv(keyword+\"_no_duplicated_title.csv\")\n",
    "    no_dup_2.to_csv(keyword+\"_no_duplicated_title_source.csv\")\n",
    "    no_dup_3.to_csv(keyword+\"_no_dup_title_content.csv\")"
   ]
  },
  {
   "cell_type": "markdown",
   "metadata": {},
   "source": [
    "# Search  different keywords: \n",
    "keyword1 = '\"Food Access\" + Jackson+ Mississippi'\n",
    "datanews_api_search(keyword1)\n",
    "\n",
    "keyword2 = '\"Fertile Ground\" + Mississippi'\n",
    "datanews_api_search(keyword2)\n",
    "\n",
    "keyword3 = '\"Food Insecurity\" + Jackson + Mississippi'\n",
    "datanews_api_search(keyword3)\n",
    "\n",
    "keyword4 = '\"Food security\" + Jackson + Mississippi'\n",
    "datanews_api_search(keyword4)\n",
    "\n",
    "keyword5 = '\"Food desert\" + Jackson + Mississippi'\n",
    "datanews_api_search(keyword5)\n",
    "\n",
    "keyword6 = '\"Fertile Ground\" + Jackson + Mississippi'\n",
    "datanews_api_search(keyword6)\n",
    "\n",
    "keyword7 = '\"Fertile Ground Project\" + Mississippi'\n",
    "datanews_api_search(keyword7)"
   ]
  },
  {
   "cell_type": "markdown",
   "metadata": {},
   "source": [
    "## Webscraping for full article: \n",
    "import requests\n",
    "from bs4 import BeautifulSoup\n",
    "\n",
    "# after combining and deduplicating files, a file with url was generated for BeautifulSoup\n",
    "# import the file with the URL we need:\n",
    "url_dataframe = pd.read_excel(\"For_BS.xlsx\")\n",
    "\n",
    "# Use a for loop to get the article content for each url and add back to the dataframe: \n",
    "allarticles = []\n",
    "    \n",
    "for i in range(len(url_dataframe)):\n",
    "    url= url_dataframe.iloc[i,0]\n",
    "    page = requests.get(url)\n",
    "    soup = BeautifulSoup(page.text, 'html.parser')\n",
    "    articlebody = soup.find(class_='_61c55')\n",
    "    # get text\n",
    "    articletext = soup.find_all('p')[0:]\n",
    "    thearticle = []\n",
    "    paragraphtext = []    \n",
    "    for paragraph in articletext[:-1]:\n",
    "        # get the text only\n",
    "        text = paragraph.get_text()\n",
    "        paragraphtext.append(text)   \n",
    "    thearticle.append(paragraphtext)\n",
    "    myarticle = [' '.join(article) for article in thearticle]\n",
    "    allarticles.append(myarticle)\n",
    "    \n",
    "# add a new column in the dataframe    \n",
    "url_dataframe[\"Full Article\"]=allarticles\n",
    "\n",
    "# save to excel\n",
    "url_dataframe.to_excel(\"All  with full article.xlsx\")"
   ]
  }
 ],
 "metadata": {
  "kernelspec": {
   "display_name": "Python 3",
   "language": "python",
   "name": "python3"
  },
  "language_info": {
   "codemirror_mode": {
    "name": "ipython",
    "version": 3
   },
   "file_extension": ".py",
   "mimetype": "text/x-python",
   "name": "python",
   "nbconvert_exporter": "python",
   "pygments_lexer": "ipython3",
   "version": "3.8.2"
  }
 },
 "nbformat": 4,
 "nbformat_minor": 4
}
